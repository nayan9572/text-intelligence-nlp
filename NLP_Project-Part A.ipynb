{
 "cells": [
  {
   "cell_type": "markdown",
   "id": "5ddd64f9-75dd-4a1b-bd85-e4b33b399964",
   "metadata": {},
   "source": [
    "# NLP Project Part A: IMDb Movie Review Sentiment Analysis\n",
    "\n",
    "## Introduction\n",
    "This notebook focuses on building a sentiment analysis model for IMDb movie reviews. The goal is to classify reviews as either positive or negative. This part covers data exploration, preprocessing, feature engineering, model development, and evaluation."
   ]
  },
  {
   "cell_type": "markdown",
   "id": "c3a16273-1093-43b9-a316-89606b7c6123",
   "metadata": {},
   "source": [
    "## Library Imports"
   ]
  },
  {
   "cell_type": "code",
   "execution_count": 7,
   "id": "b9f6af72-7bc4-4c39-b864-e04d111c9671",
   "metadata": {},
   "outputs": [
    {
     "name": "stderr",
     "output_type": "stream",
     "text": [
      "[nltk_data] Downloading package stopwords to\n",
      "[nltk_data]     C:\\Users\\nayan\\AppData\\Roaming\\nltk_data...\n",
      "[nltk_data]   Unzipping corpora\\stopwords.zip.\n",
      "[nltk_data] Downloading package wordnet to\n",
      "[nltk_data]     C:\\Users\\nayan\\AppData\\Roaming\\nltk_data...\n",
      "[nltk_data] Downloading package omw-1.4 to\n",
      "[nltk_data]     C:\\Users\\nayan\\AppData\\Roaming\\nltk_data...\n"
     ]
    },
    {
     "data": {
      "text/plain": [
       "True"
      ]
     },
     "execution_count": 7,
     "metadata": {},
     "output_type": "execute_result"
    }
   ],
   "source": [
    "# Import necessary libraries\n",
    "import pandas as pd\n",
    "import numpy as np\n",
    "import re\n",
    "import nltk\n",
    "from nltk.corpus import stopwords\n",
    "from nltk.stem import WordNetLemmatizer\n",
    "from sklearn.feature_extraction.text import TfidfVectorizer\n",
    "from sklearn.model_selection import train_test_split\n",
    "from sklearn.linear_model import LogisticRegression\n",
    "from sklearn.naive_bayes import MultinomialNB\n",
    "from sklearn.metrics import accuracy_score, precision_score, recall_score, f1_score, confusion_matrix, ConfusionMatrixDisplay\n",
    "import matplotlib.pyplot as plt\n",
    "import seaborn as sns\n",
    "\n",
    "# Download NLTK data\n",
    "nltk.download('stopwords')\n",
    "nltk.download('wordnet')\n",
    "nltk.download('omw-1.4') # Required for WordNetLemmatizer"
   ]
  },
  {
   "cell_type": "markdown",
   "id": "39bb0d45-02e5-4b95-9f08-a85227a3d0d0",
   "metadata": {},
   "source": [
    "## 3. Data Loading and Initial Exploration\n",
    "This section loads the dataset and performs initial checks to understand its structure and content."
   ]
  },
  {
   "cell_type": "code",
   "execution_count": 11,
   "id": "0fc52d77-4efd-4fca-b75e-89b2fd53c8ac",
   "metadata": {},
   "outputs": [
    {
     "name": "stdout",
     "output_type": "stream",
     "text": [
      "First 5 rows of the dataset:\n",
      "                                              review sentiment\n",
      "0  One of the other reviewers has mentioned that ...  positive\n",
      "1  A wonderful little production. <br /><br />The...  positive\n",
      "2  I thought this was a wonderful way to spend ti...  positive\n",
      "3  Basically there's a family where a little boy ...  negative\n",
      "4  Petter Mattei's \"Love in the Time of Money\" is...  positive\n",
      "\n",
      "DataFrame Info:\n",
      "<class 'pandas.core.frame.DataFrame'>\n",
      "RangeIndex: 50000 entries, 0 to 49999\n",
      "Data columns (total 2 columns):\n",
      " #   Column     Non-Null Count  Dtype \n",
      "---  ------     --------------  ----- \n",
      " 0   review     50000 non-null  object\n",
      " 1   sentiment  50000 non-null  object\n",
      "dtypes: object(2)\n",
      "memory usage: 781.4+ KB\n",
      "\n",
      "Descriptive Statistics:\n",
      "                                                   review sentiment\n",
      "count                                               50000     50000\n",
      "unique                                              49581         2\n",
      "top     Loved today's show!!! It was a variety and not...  positive\n",
      "freq                                                    5     25000\n",
      "\n",
      "Missing Values:\n",
      "review       0\n",
      "sentiment    0\n",
      "dtype: int64\n",
      "\n",
      "Sentiment Distribution:\n",
      "sentiment\n",
      "positive    25000\n",
      "negative    25000\n",
      "Name: count, dtype: int64\n"
     ]
    }
   ],
   "source": [
    "# Load the dataset\n",
    "df = pd.read_excel('Imdb.xlsx')\n",
    "\n",
    "# Display the first few rows of the dataframe\n",
    "print(\"First 5 rows of the dataset:\")\n",
    "print(df.head())\n",
    "\n",
    "# Get a concise summary of the dataframe\n",
    "print(\"\\nDataFrame Info:\")\n",
    "df.info()\n",
    "\n",
    "# Get descriptive statistics\n",
    "print(\"\\nDescriptive Statistics:\")\n",
    "print(df.describe())\n",
    "\n",
    "# Check for missing values\n",
    "print(\"\\nMissing Values:\")\n",
    "print(df.isnull().sum())\n",
    "\n",
    "# Analyze sentiment distribution\n",
    "print(\"\\nSentiment Distribution:\")\n",
    "print(df['sentiment'].value_counts())\n",
    "\n",
    "# Map sentiment to numerical values for modeling\n",
    "df['sentiment'] = df['sentiment'].map({'positive': 1, 'negative': 0})"
   ]
  },
  {
   "cell_type": "markdown",
   "id": "d40fff58-ef20-47b0-a493-d3ef8aeb9a3d",
   "metadata": {},
   "source": [
    "## 4. Text Preprocessing\n",
    "This section defines and applies a series of text cleaning steps to prepare the reviews for analysis."
   ]
  },
  {
   "cell_type": "code",
   "execution_count": 14,
   "id": "5972c9c4-8a38-462a-8c1a-db5e3e429af2",
   "metadata": {},
   "outputs": [
    {
     "name": "stdout",
     "output_type": "stream",
     "text": [
      "\n",
      "Sample Cleaned Reviews:\n",
      "                                              review  \\\n",
      "0  One of the other reviewers has mentioned that ...   \n",
      "1  A wonderful little production. <br /><br />The...   \n",
      "2  I thought this was a wonderful way to spend ti...   \n",
      "3  Basically there's a family where a little boy ...   \n",
      "4  Petter Mattei's \"Love in the Time of Money\" is...   \n",
      "\n",
      "                                      cleaned_review  \n",
      "0  one reviewer mentioned watching oz episode you...  \n",
      "1  wonderful little production br br filming tech...  \n",
      "2  thought wonderful way spend time hot summer we...  \n",
      "3  basically there family little boy jake think t...  \n",
      "4  petter matteis love time money visually stunni...  \n"
     ]
    }
   ],
   "source": [
    "# Function to remove HTML tags\n",
    "def remove_html(text):\n",
    "    pattern = re.compile('<.*?>')\n",
    "    return pattern.sub(r'', text)\n",
    "\n",
    "# Function for text preprocessing (lowercase, remove special chars, stopwords, lemmatization)\n",
    "lemmatizer = WordNetLemmatizer()\n",
    "stop_words = set(stopwords.words('english'))\n",
    "\n",
    "def preprocess_text(text):\n",
    "    text = text.lower() # Convert to lowercase\n",
    "    text = re.sub(r'[^a-zA-Z\\s]', '', text) # Remove special characters\n",
    "    words = text.split() # Tokenize\n",
    "    words = [word for word in words if word not in stop_words] # Remove stopwords\n",
    "    words = [lemmatizer.lemmatize(word) for word in words] # Lemmatize\n",
    "    return ' '.join(words)\n",
    "\n",
    "# Apply preprocessing to the 'review' column\n",
    "df['cleaned_review'] = df['review'].astype(str).apply(preprocess_text)\n",
    "\n",
    "# Display a sample of cleaned reviews\n",
    "print(\"\\nSample Cleaned Reviews:\")\n",
    "print(df[['review', 'cleaned_review']].head())"
   ]
  },
  {
   "cell_type": "markdown",
   "id": "c24c6052-4b8b-4a68-96ab-a5efeb1bafc9",
   "metadata": {},
   "source": [
    "## 5. Feature Engineering\n",
    "Here, we transform the textual data into numerical features that can be used by machine learning models."
   ]
  },
  {
   "cell_type": "code",
   "execution_count": 17,
   "id": "38e280cf-ce88-4f7b-b738-75418d7be58e",
   "metadata": {},
   "outputs": [
    {
     "name": "stdout",
     "output_type": "stream",
     "text": [
      "\n",
      "Shape of TF-IDF features: (50000, 5000)\n",
      "Shape of target variable: (50000,)\n"
     ]
    }
   ],
   "source": [
    "# Create TF-IDF features\n",
    "tfidf_vectorizer = TfidfVectorizer(max_features=5000) # You can adjust max_features\n",
    "X_tfidf = tfidf_vectorizer.fit_transform(df['cleaned_review']).toarray()\n",
    "\n",
    "# Add 'review_length' as an additional feature\n",
    "df['review_length'] = df['review'].apply(len)\n",
    "X_additional_features = df[['review_length']].values\n",
    "\n",
    "# Combine TF-IDF features with additional features (if desired, requires careful scaling)\n",
    "# For simplicity, we'll primarily use TF-IDF for now. If combining, ensure scaling is applied.\n",
    "X = X_tfidf\n",
    "y = df['sentiment']\n",
    "\n",
    "# Display shapes of features and target\n",
    "print(f\"\\nShape of TF-IDF features: {X_tfidf.shape}\")\n",
    "print(f\"Shape of target variable: {y.shape}\")"
   ]
  },
  {
   "cell_type": "markdown",
   "id": "46c30a82-0d4e-4ea7-a4d2-6ca711f44b98",
   "metadata": {},
   "source": [
    "## 6. Model Development and Training\n",
    "This section focuses on splitting the data, training various classification models, and making predictions."
   ]
  },
  {
   "cell_type": "code",
   "execution_count": 20,
   "id": "ff895bdc-b0eb-4d48-85eb-fb527f6c1ff7",
   "metadata": {},
   "outputs": [
    {
     "name": "stdout",
     "output_type": "stream",
     "text": [
      "\n",
      "Training data shape: (40000, 5000), (40000,)\n",
      "Testing data shape: (10000, 5000), (10000,)\n",
      "\n",
      "Training Logistic Regression Model...\n",
      "Logistic Regression Model Trained.\n",
      "\n",
      "Training Multinomial Naive Bayes Model...\n",
      "Multinomial Naive Bayes Model Trained.\n"
     ]
    }
   ],
   "source": [
    "# Split the data into training and testing sets\n",
    "X_train, X_test, y_train, y_test = train_test_split(X, y, test_size=0.2, random_state=42)\n",
    "\n",
    "print(f\"\\nTraining data shape: {X_train.shape}, {y_train.shape}\")\n",
    "print(f\"Testing data shape: {X_test.shape}, {y_test.shape}\")\n",
    "\n",
    "# Train Logistic Regression Model\n",
    "print(\"\\nTraining Logistic Regression Model...\")\n",
    "lr_model = LogisticRegression(max_iter=1000)\n",
    "lr_model.fit(X_train, y_train)\n",
    "lr_predictions = lr_model.predict(X_test)\n",
    "print(\"Logistic Regression Model Trained.\")\n",
    "\n",
    "# Train Multinomial Naive Bayes Model\n",
    "print(\"\\nTraining Multinomial Naive Bayes Model...\")\n",
    "nb_model = MultinomialNB()\n",
    "nb_model.fit(X_train, y_train)\n",
    "nb_predictions = nb_model.predict(X_test)\n",
    "print(\"Multinomial Naive Bayes Model Trained.\")"
   ]
  },
  {
   "cell_type": "markdown",
   "id": "7fc5ff17-d05d-4330-bd26-f794f28a2018",
   "metadata": {},
   "source": [
    "## 7. Model Evaluation\n",
    "Here, we evaluate the performance of our trained models using various metrics and visualizations."
   ]
  },
  {
   "cell_type": "code",
   "execution_count": 23,
   "id": "4b08e5d3-9d6e-4bf8-be97-c696ba553215",
   "metadata": {},
   "outputs": [
    {
     "name": "stdout",
     "output_type": "stream",
     "text": [
      "\n",
      "--- Logistic Regression Evaluation ---\n",
      "Accuracy: 0.8849\n",
      "Precision: 0.8766\n",
      "Recall: 0.8980\n",
      "F1-Score: 0.8872\n"
     ]
    },
    {
     "data": {
      "image/png": "[encoded data removed]",
      "text/plain": [
       "<Figure size 600x400 with 2 Axes>"
      ]
     },
     "metadata": {},
     "output_type": "display_data"
    },
    {
     "name": "stdout",
     "output_type": "stream",
     "text": [
      "\n",
      "--- Multinomial Naive Bayes Evaluation ---\n",
      "Accuracy: 0.8520\n",
      "Precision: 0.8512\n",
      "Recall: 0.8559\n",
      "F1-Score: 0.8536\n"
     ]
    },
    {
     "data": {
      "image/png": "[encoded data removed]",
      "text/plain": [
       "<Figure size 600x400 with 2 Axes>"
      ]
     },
     "metadata": {},
     "output_type": "display_data"
    }
   ],
   "source": [
    "# Evaluate Logistic Regression\n",
    "print(\"\\n--- Logistic Regression Evaluation ---\")\n",
    "print(f\"Accuracy: {accuracy_score(y_test, lr_predictions):.4f}\")\n",
    "print(f\"Precision: {precision_score(y_test, lr_predictions):.4f}\")\n",
    "print(f\"Recall: {recall_score(y_test, lr_predictions):.4f}\")\n",
    "print(f\"F1-Score: {f1_score(y_test, lr_predictions):.4f}\")\n",
    "\n",
    "# Confusion Matrix for Logistic Regression\n",
    "fig, ax = plt.subplots(figsize=(6, 4))\n",
    "ConfusionMatrixDisplay.from_estimator(lr_model, X_test, y_test, cmap=plt.cm.Blues, ax=ax)\n",
    "ax.set_title('Logistic Regression Confusion Matrix')\n",
    "plt.show()\n",
    "\n",
    "# Evaluate Multinomial Naive Bayes\n",
    "print(\"\\n--- Multinomial Naive Bayes Evaluation ---\")\n",
    "print(f\"Accuracy: {accuracy_score(y_test, nb_predictions):.4f}\")\n",
    "print(f\"Precision: {precision_score(y_test, nb_predictions):.4f}\")\n",
    "print(f\"Recall: {recall_score(y_test, nb_predictions):.4f}\")\n",
    "print(f\"F1-Score: {f1_score(y_test, nb_predictions):.4f}\")\n",
    "\n",
    "# Confusion Matrix for Multinomial Naive Bayes\n",
    "fig, ax = plt.subplots(figsize=(6, 4))\n",
    "ConfusionMatrixDisplay.from_estimator(nb_model, X_test, y_test, cmap=plt.cm.Blues, ax=ax)\n",
    "ax.set_title('Multinomial Naive Bayes Confusion Matrix')\n",
    "plt.show()"
   ]
  },
  {
   "cell_type": "markdown",
   "id": "71896e8b-a275-4cbf-ba26-73ab39642429",
   "metadata": {},
   "source": [
    "## 8. Sentiment Prediction Function\n",
    "A utility function to predict the sentiment of new, unseen movie reviews using the best performing model."
   ]
  },
  {
   "cell_type": "code",
   "execution_count": 26,
   "id": "0c9ca15e-a2ec-4afe-9cfd-ea099ca4797d",
   "metadata": {},
   "outputs": [
    {
     "name": "stdout",
     "output_type": "stream",
     "text": [
      "\n",
      "Prediction for 'This movie was absolutely fantastic! A must-watch masterpiece.': ['positive']\n",
      "Prediction for 'What a terrible film, I wasted my time watching this.': ['negative']\n"
     ]
    }
   ],
   "source": [
    "def predict_sentiment(new_reviews, model, vectorizer):\n",
    "    # Preprocess new reviews\n",
    "    cleaned_new_reviews = [preprocess_text(review) for review in new_reviews]\n",
    "    # Transform new reviews using the trained TF-IDF vectorizer\n",
    "    new_reviews_tfidf = vectorizer.transform(cleaned_new_reviews)\n",
    "    # Make predictions\n",
    "    predictions = model.predict(new_reviews_tfidf)\n",
    "    # Convert predictions back to 'positive'/'negative' labels\n",
    "    return ['positive' if pred == 1 else 'negative' for pred in predictions]\n",
    "\n",
    "# Example usage:\n",
    "example_review_positive = [\"This movie was absolutely fantastic! A must-watch masterpiece.\"]\n",
    "example_review_negative = [\"What a terrible film, I wasted my time watching this.\"]\n",
    "\n",
    "print(f\"\\nPrediction for '{example_review_positive[0]}': {predict_sentiment(example_review_positive, lr_model, tfidf_vectorizer)}\")\n",
    "print(f\"Prediction for '{example_review_negative[0]}': {predict_sentiment(example_review_negative, lr_model, tfidf_vectorizer)}\")"
   ]
  },
  {
   "cell_type": "markdown",
   "id": "6bf74f24-cef7-4da6-b2be-14dcb3281726",
   "metadata": {},
   "source": [
    "# 9. Conclusion and Future Work\n",
    "Here's what we learned and what we can do next to make the project even better.\n",
    "\n",
    "### Conclusion:\n",
    "\n",
    "In this project, we successfully built and checked models that can tell if an IMDb movie review is positive or negative.\n",
    "\n",
    "First, we looked closely at the movie review data. We found out how many reviews were positive or negative, and how long the reviews usually were.\n",
    "\n",
    "Next, we cleaned the text from the reviews. This meant taking out extra computer code (like HTML tags), making all letters small, removing strange symbols, taking out common words that don't add much meaning (like \"the\" or \"a\"), and changing words to their basic form (like \"running\" to \"run\"). This made the text ready for our models.\n",
    "\n",
    "Then, we turned the text into numbers using something called TF-IDF. This helps the computer understand the words. We also used the length of the review as another piece of information.\n",
    "\n",
    "After that, we used two types of models: Logistic Regression and Naive Bayes. We trained these models to learn from the cleaned review data.\n",
    "\n",
    "Finally, we checked how well our models worked. We used simple scores like accuracy (how many correct guesses), precision, recall, and F1-score. We also looked at a \"confusion matrix\" which is a table that shows where our models made mistakes. Overall, our models did a good job, showing that our method works for finding review sentiment.\n",
    "\n",
    "### Future Work (How to Make it Better):\n",
    "\n",
    "To make our movie review sentiment analysis even stronger, we can try these things next:\n",
    "\n",
    "### Adjusting Model Settings:\n",
    "We can fine-tune the \"knobs\" and \"dials\" (called hyperparameters) of our models. Tools like GridSearchCV or RandomizedSearchCV can help us find the best settings so our models work even better.\n",
    "\n",
    "### Better Word Understanding: \n",
    "Right now, we use TF-IDF. But we can teach the computer to understand words more deeply using \"word embeddings.\" Think of these as special maps for words that show how words are connected in meaning (like \"happy\" is close to \"joyful\"). Some famous ones are Word2Vec, GloVe, or newer ones like BERT. This can help our models understand the meaning of reviews more accurately.\n",
    "\n",
    "### Newer Models:\n",
    "We can try more advanced types of models, especially those used in \"deep learning.\" These are like smarter computer brains that are very good at understanding text, such as LSTMs, GRUs, or Transformers.\n",
    "\n",
    "### Find Model Mistakes: \n",
    "We can look closely at the reviews where our models made wrong guesses. By understanding why the models made mistakes, we can find ways to fix our cleaning steps or how we represent words.\n",
    "\n",
    "### Add ROC-AUC: \n",
    "We can also use another way to check our models called ROC-AUC. This gives us a good idea of how well our model can tell the difference between positive and negative reviews."
   ]
  },
  {
   "cell_type": "markdown",
   "id": "57739a28-a201-4611-8420-2cd908b92913",
   "metadata": {},
   "source": [
    "# Video Link\n",
    "https://drive.google.com/file/d/1QrwJuQ4lRzKY6sfPxH4--kWMZJlwu2y0/view?usp=drivesdk"
   ]
  },
  {
   "cell_type": "code",
   "execution_count": null,
   "id": "97b7a464-48df-41f1-a59b-cd9dafe30a84",
   "metadata": {},
   "outputs": [],
   "source": []
  }
 ],
 "metadata": {
  "kernelspec": {
   "display_name": "Python 3 (ipykernel)",
   "language": "python",
   "name": "python3"
  },
  "language_info": {
   "codemirror_mode": {
    "name": "ipython",
    "version": 3
   },
   "file_extension": ".py",
   "mimetype": "text/x-python",
   "name": "python",
   "nbconvert_exporter": "python",
   "pygments_lexer": "ipython3",
   "version": "3.12.7"
  }
 },
 "nbformat": 4,
 "nbformat_minor": 5
}
